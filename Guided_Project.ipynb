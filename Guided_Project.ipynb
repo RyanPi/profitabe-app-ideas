{
 "cells": [
  {
   "cell_type": "markdown",
   "metadata": {},
   "source": [
    "# What App to Build?\n",
    "## Free Download Ad-Supported App \n",
    "This project is intended to identify a profile to be used for developing an ad-supported and free to install application. We will be looking at data provided by the Apple App Store and the Google Play App Store. Using these two data sets we'll attempt to understand the type of app we should develop. In addition to being a free app this app will need to be English speaking.\n",
    "Our goal is to make ad-revenue from our app. As a result, it is critical to find apps who attract a large number of users and a large number of repeat or daily active users."
   ]
  },
  {
   "cell_type": "markdown",
   "metadata": {},
   "source": [
    "Function definition below converts a data source to a list of lists."
   ]
  },
  {
   "cell_type": "code",
   "execution_count": 46,
   "metadata": {
    "scrolled": true
   },
   "outputs": [],
   "source": [
    "def gimme_data(data_source):\n",
    "    opened_data = open(data_source, encoding = 'utf8')\n",
    "    from csv import reader\n",
    "    read_data = reader(opened_data)\n",
    "    data_set = list(read_data)\n",
    "    return data_set  "
   ]
  },
  {
   "cell_type": "markdown",
   "metadata": {},
   "source": [
    "Function definiton below defines a command to pull a subsection of a list of lists from our data sets."
   ]
  },
  {
   "cell_type": "code",
   "execution_count": 47,
   "metadata": {},
   "outputs": [],
   "source": [
    "def explore_data(dataset, start, end, rows_and_columns=False):\n",
    "    dataset_slice = dataset[start:end]\n",
    "    for row in dataset_slice:\n",
    "        print(row)\n",
    "        print('\\n')\n",
    "        \n",
    "    if rows_and_columns:\n",
    "        print('Number of rows', len(dataset))\n",
    "        print('Number of columns', len(dataset[0]))\n"
   ]
  },
  {
   "cell_type": "markdown",
   "metadata": {},
   "source": [
    "The code below pulls in Apple App Store and Google Play data into separate objects"
   ]
  },
  {
   "cell_type": "code",
   "execution_count": 48,
   "metadata": {},
   "outputs": [],
   "source": [
    "apple_data = gimme_data('Documents/APP_DATA/AppleStore.csv')\n",
    "google_data = gimme_data('Documents/APP_DATA/googleplaystore.csv')"
   ]
  },
  {
   "cell_type": "markdown",
   "metadata": {},
   "source": [
    "The code below explores the data sets for the Apple App Store and Google Play. We will see the first five entries, including the header row."
   ]
  },
  {
   "cell_type": "code",
   "execution_count": 49,
   "metadata": {},
   "outputs": [
    {
     "name": "stdout",
     "output_type": "stream",
     "text": [
      "['', 'id', 'track_name', 'size_bytes', 'currency', 'price', 'rating_count_tot', 'rating_count_ver', 'user_rating', 'user_rating_ver', 'ver', 'cont_rating', 'prime_genre', 'sup_devices.num', 'ipadSc_urls.num', 'lang.num', 'vpp_lic']\n",
      "\n",
      "\n",
      "['1', '281656475', 'PAC-MAN Premium', '100788224', 'USD', '3.99', '21292', '26', '4', '4.5', '6.3.5', '4+', 'Games', '38', '5', '10', '1']\n",
      "\n",
      "\n",
      "['2', '281796108', 'Evernote - stay organized', '158578688', 'USD', '0', '161065', '26', '4', '3.5', '8.2.2', '4+', 'Productivity', '37', '5', '23', '1']\n",
      "\n",
      "\n",
      "['3', '281940292', 'WeatherBug - Local Weather, Radar, Maps, Alerts', '100524032', 'USD', '0', '188583', '2822', '3.5', '4.5', '5.0.0', '4+', 'Weather', '37', '5', '3', '1']\n",
      "\n",
      "\n",
      "['4', '282614216', 'eBay: Best App to Buy, Sell, Save! Online Shopping', '128512000', 'USD', '0', '262241', '649', '4', '4.5', '5.10.0', '12+', 'Shopping', '37', '5', '9', '1']\n",
      "\n",
      "\n",
      "Number of rows 7198\n",
      "Number of columns 17\n",
      "------------------------------------------------------------------------------------------------------------\n",
      "['App', 'Category', 'Rating', 'Reviews', 'Size', 'Installs', 'Type', 'Price', 'Content Rating', 'Genres', 'Last Updated', 'Current Ver', 'Android Ver']\n",
      "\n",
      "\n",
      "['Photo Editor & Candy Camera & Grid & ScrapBook', 'ART_AND_DESIGN', '4.1', '159', '19M', '10,000+', 'Free', '0', 'Everyone', 'Art & Design', 'January 7, 2018', '1.0.0', '4.0.3 and up']\n",
      "\n",
      "\n",
      "['Coloring book moana', 'ART_AND_DESIGN', '3.9', '967', '14M', '500,000+', 'Free', '0', 'Everyone', 'Art & Design;Pretend Play', 'January 15, 2018', '2.0.0', '4.0.3 and up']\n",
      "\n",
      "\n",
      "['U Launcher Lite – FREE Live Cool Themes, Hide Apps', 'ART_AND_DESIGN', '4.7', '87510', '8.7M', '5,000,000+', 'Free', '0', 'Everyone', 'Art & Design', 'August 1, 2018', '1.2.4', '4.0.3 and up']\n",
      "\n",
      "\n",
      "['Sketch - Draw & Paint', 'ART_AND_DESIGN', '4.5', '215644', '25M', '50,000,000+', 'Free', '0', 'Teen', 'Art & Design', 'June 8, 2018', 'Varies with device', '4.2 and up']\n",
      "\n",
      "\n",
      "Number of rows 10842\n",
      "Number of columns 13\n"
     ]
    }
   ],
   "source": [
    "explore_data(apple_data, 0, 5, True)\n",
    "print('------------------------------------------------------------------------------------------------------------')\n",
    "explore_data(google_data, 0, 5, True)"
   ]
  },
  {
   "cell_type": "code",
   "execution_count": 50,
   "metadata": {},
   "outputs": [
    {
     "name": "stdout",
     "output_type": "stream",
     "text": [
      "['App', 'Category', 'Rating', 'Reviews', 'Size', 'Installs', 'Type', 'Price', 'Content Rating', 'Genres', 'Last Updated', 'Current Ver', 'Android Ver']\n",
      "-----------------------------------------------------------------------------------------------------\n",
      "['Xposed Wi-Fi-Pwd', 'PERSONALIZATION', '3.5', '1042', '404k', '100,000+', 'Free', '0', 'Everyone', 'Personalization', 'August 5, 2014', '3.0.0', '4.0.3 and up']\n"
     ]
    }
   ],
   "source": [
    "print(google_data[0])\n",
    "print('-----------------------------------------------------------------------------------------------------')\n",
    "print(google_data[10472])"
   ]
  },
  {
   "cell_type": "code",
   "execution_count": 51,
   "metadata": {},
   "outputs": [
    {
     "name": "stdout",
     "output_type": "stream",
     "text": [
      "['Jazz Wi-Fi', 'COMMUNICATION', '3.4', '49', '4.0M', '10,000+', 'Free', '0', 'Everyone', 'Communication', 'February 10, 2017', '0.1', '2.3 and up']\n",
      "\n",
      "\n",
      "['Xposed Wi-Fi-Pwd', 'PERSONALIZATION', '3.5', '1042', '404k', '100,000+', 'Free', '0', 'Everyone', 'Personalization', 'August 5, 2014', '3.0.0', '4.0.3 and up']\n",
      "\n",
      "\n",
      "['Life Made WI-Fi Touchscreen Photo Frame', '1.9', '19', '3.0M', '1,000+', 'Free', '0', 'Everyone', '', 'February 11, 2018', '1.0.19', '4.0 and up']\n",
      "\n",
      "\n"
     ]
    }
   ],
   "source": [
    "explore_data(google_data,10471,10474)"
   ]
  },
  {
   "cell_type": "code",
   "execution_count": 52,
   "metadata": {},
   "outputs": [
    {
     "name": "stdout",
     "output_type": "stream",
     "text": [
      "13\n",
      "13\n",
      "12\n"
     ]
    }
   ],
   "source": [
    "print(len(google_data[10471]))\n",
    "print(len(google_data[10472]))\n",
    "print(len(google_data[10473]))"
   ]
  },
  {
   "cell_type": "code",
   "execution_count": 53,
   "metadata": {},
   "outputs": [],
   "source": [
    "del google_data[10473]"
   ]
  },
  {
   "cell_type": "code",
   "execution_count": 54,
   "metadata": {},
   "outputs": [
    {
     "name": "stdout",
     "output_type": "stream",
     "text": [
      "['Jazz Wi-Fi', 'COMMUNICATION', '3.4', '49', '4.0M', '10,000+', 'Free', '0', 'Everyone', 'Communication', 'February 10, 2017', '0.1', '2.3 and up']\n",
      "\n",
      "\n",
      "['Xposed Wi-Fi-Pwd', 'PERSONALIZATION', '3.5', '1042', '404k', '100,000+', 'Free', '0', 'Everyone', 'Personalization', 'August 5, 2014', '3.0.0', '4.0.3 and up']\n",
      "\n",
      "\n",
      "['osmino Wi-Fi: free WiFi', 'TOOLS', '4.2', '134203', '4.1M', '10,000,000+', 'Free', '0', 'Everyone', 'Tools', 'August 7, 2018', '6.06.14', '4.4 and up']\n",
      "\n",
      "\n"
     ]
    }
   ],
   "source": [
    "explore_data(google_data, 10471, 10474)"
   ]
  },
  {
   "cell_type": "markdown",
   "metadata": {},
   "source": [
    "In the above code we isolated a row with missing information. This row was the deleted."
   ]
  },
  {
   "cell_type": "markdown",
   "metadata": {},
   "source": [
    "We also know that there are duplicate entries in our data. Before analysis we need to remove the duplicate entries. Please see below."
   ]
  },
  {
   "cell_type": "code",
   "execution_count": 55,
   "metadata": {},
   "outputs": [
    {
     "name": "stdout",
     "output_type": "stream",
     "text": [
      "['Facebook', 'SOCIAL', '4.1', '78158306', 'Varies with device', '1,000,000,000+', 'Free', '0', 'Teen', 'Social', 'August 3, 2018', 'Varies with device', 'Varies with device']\n",
      "['Facebook', 'SOCIAL', '4.1', '78128208', 'Varies with device', '1,000,000,000+', 'Free', '0', 'Teen', 'Social', 'August 3, 2018', 'Varies with device', 'Varies with device']\n"
     ]
    }
   ],
   "source": [
    "for row in google_data:\n",
    "    name = row[0]\n",
    "    if name == 'Facebook':\n",
    "        print(row)"
   ]
  },
  {
   "cell_type": "markdown",
   "metadata": {},
   "source": [
    "Although there are duplicate entries the fourth value of each row (index value 3), contains ratings information. We need to isolate individual app entries which contain the highest rating. The higher the rating indicates the most recent app review."
   ]
  },
  {
   "cell_type": "code",
   "execution_count": 56,
   "metadata": {},
   "outputs": [
    {
     "name": "stdout",
     "output_type": "stream",
     "text": [
      "Duplicate app count:  1181\n",
      "Unique app count:  9659\n",
      "Duplicate app count:  2\n",
      "Unique app count:  7195\n"
     ]
    }
   ],
   "source": [
    "duplicate_app = []\n",
    "unique_app = []\n",
    "\n",
    "for app in google_data[1:]:\n",
    "    name = app[0]\n",
    "    if name in unique_app:\n",
    "        duplicate_app.append(name) #important that we append the name of the app and not the entire row to the list object\n",
    "    else:\n",
    "        unique_app.append(name)\n",
    "\n",
    "#check on count of duplicates and unique app counts\n",
    "\n",
    "print(\"Duplicate app count: \", len(duplicate_app))\n",
    "print(\"Unique app count: \", len(unique_app))\n",
    "\n",
    "duplicate_app_ios = []\n",
    "unique_app_ios = []\n",
    "\n",
    "for app in apple_data[1:]:\n",
    "    name = app[2]\n",
    "    if name in unique_app_ios:\n",
    "        duplicate_app_ios.append(name)\n",
    "    else:\n",
    "        unique_app_ios.append(name)\n",
    "\n",
    "print(\"Duplicate app count: \", len(duplicate_app_ios))\n",
    "print(\"Unique app count: \", len(unique_app_ios))\n",
    "        "
   ]
  },
  {
   "cell_type": "code",
   "execution_count": 57,
   "metadata": {},
   "outputs": [
    {
     "name": "stdout",
     "output_type": "stream",
     "text": [
      "['Photo Editor & Candy Camera & Grid & ScrapBook', 'Coloring book moana']\n",
      "['VR Roller Coaster', 'Mannequin Challenge']\n",
      "['PAC-MAN Premium', 'Evernote - stay organized', 'WeatherBug - Local Weather, Radar, Maps, Alerts', 'eBay: Best App to Buy, Sell, Save! Online Shopping', 'Bible']\n"
     ]
    }
   ],
   "source": [
    "print(unique_app[:2])\n",
    "print(duplicate_app_ios)\n",
    "print(unique_app_ios[0:5])"
   ]
  },
  {
   "cell_type": "markdown",
   "metadata": {},
   "source": [
    "From the results above we see thre are >9500 unique apps. Althouhg we have identified the duplicate apps we also need to remove the duplicates from our data_set."
   ]
  },
  {
   "cell_type": "code",
   "execution_count": 58,
   "metadata": {},
   "outputs": [
    {
     "name": "stdout",
     "output_type": "stream",
     "text": [
      "expected length 9659\n"
     ]
    }
   ],
   "source": [
    "print('expected length', len(google_data[1:]) - 1181)"
   ]
  },
  {
   "cell_type": "markdown",
   "metadata": {},
   "source": [
    "To remove duplicates we will:\n",
    "-Create a dictionary where the keys are unique apps names and their values are highest app reviews\n",
    "-use this dictionary to create a new data set that will only have one entry per app"
   ]
  },
  {
   "cell_type": "code",
   "execution_count": 59,
   "metadata": {},
   "outputs": [
    {
     "name": "stdout",
     "output_type": "stream",
     "text": [
      "9659\n",
      "6867\n"
     ]
    }
   ],
   "source": [
    "unique_apps_dict = {}\n",
    "\n",
    "for row in google_data[1:]:\n",
    "    name = row[0]\n",
    "    n_reviews = float(row[3])\n",
    "    if name in unique_apps_dict and unique_apps_dict[name] < n_reviews:\n",
    "        unique_apps_dict[name] = n_reviews\n",
    "    elif name not in unique_apps_dict:\n",
    "        unique_apps_dict[name] = n_reviews\n",
    "\n",
    "print(len(unique_apps_dict))\n",
    "\n",
    "def unique_maker(dataset, index_name, index_reviews):\n",
    "    uni_apps_dict = {}\n",
    "\n",
    "    for row in dataset[1:]:\n",
    "        name = row[index_name]\n",
    "        n_reviews = float(row[index_reviews])\n",
    "        if name in uni_apps_dict and uni_apps_dict[name] < n_reviews:\n",
    "            uni_apps_dict[name] = n_reviews\n",
    "        elif name not in unique_apps_dict:\n",
    "            uni_apps_dict[name] = n_reviews\n",
    "    return uni_apps_dict\n",
    "\n",
    "unique_apple = unique_maker(apple_data, 2, 8)\n",
    "print(len(unique_apple))"
   ]
  },
  {
   "cell_type": "markdown",
   "metadata": {},
   "source": [
    "Now that the unique apps and their highest rating has been isolated to a dictionary, we can use the dictionary to look up the rows in the data set and add them to a new list. If the name of the app is not in already added and the rating is equal to the rating in the dictionary, then we add to the new list."
   ]
  },
  {
   "cell_type": "code",
   "execution_count": 60,
   "metadata": {},
   "outputs": [],
   "source": [
    "unique_clean_google_data = []\n",
    "already_added = []\n",
    "\n",
    "for row in google_data[1:]:\n",
    "    name = row[0]\n",
    "    rating = float(row[3])\n",
    "    if name not in already_added and rating == unique_apps_dict[name]:\n",
    "        unique_clean_google_data.append(row)\n",
    "        already_added.append(name)\n",
    "        \n"
   ]
  },
  {
   "cell_type": "code",
   "execution_count": 61,
   "metadata": {},
   "outputs": [
    {
     "name": "stdout",
     "output_type": "stream",
     "text": [
      "['Photo Editor & Candy Camera & Grid & ScrapBook', 'ART_AND_DESIGN', '4.1', '159', '19M', '10,000+', 'Free', '0', 'Everyone', 'Art & Design', 'January 7, 2018', '1.0.0', '4.0.3 and up']\n",
      "\n",
      "\n",
      "['U Launcher Lite – FREE Live Cool Themes, Hide Apps', 'ART_AND_DESIGN', '4.7', '87510', '8.7M', '5,000,000+', 'Free', '0', 'Everyone', 'Art & Design', 'August 1, 2018', '1.2.4', '4.0.3 and up']\n",
      "\n",
      "\n",
      "['Sketch - Draw & Paint', 'ART_AND_DESIGN', '4.5', '215644', '25M', '50,000,000+', 'Free', '0', 'Teen', 'Art & Design', 'June 8, 2018', 'Varies with device', '4.2 and up']\n",
      "\n",
      "\n",
      "Number of rows 9659\n",
      "Number of columns 13\n"
     ]
    }
   ],
   "source": [
    "explore_data(unique_clean_google_data, 0, 3, True)"
   ]
  },
  {
   "cell_type": "markdown",
   "metadata": {},
   "source": [
    "Although we have unique apps isolated, we need to remove non-English apps. English characters have a value of 0-127. Using the built-in function `ord()` we can check each character value of a given string. Using this funciton we'll buid a function that takes a string, reads each character, if english adds the app row to a new list, else adds app row to non-english"
   ]
  },
  {
   "cell_type": "code",
   "execution_count": 62,
   "metadata": {},
   "outputs": [],
   "source": [
    "def english(string):\n",
    "    counter = 0\n",
    "    \n",
    "    for character in string:\n",
    "        if ord(character) > 127:\n",
    "            counter += 1\n",
    "            if counter > 3:\n",
    "                return False\n",
    "            #print(character)\n",
    "    return True"
   ]
  },
  {
   "cell_type": "markdown",
   "metadata": {},
   "source": [
    "Testing the above function."
   ]
  },
  {
   "cell_type": "code",
   "execution_count": 63,
   "metadata": {},
   "outputs": [
    {
     "name": "stdout",
     "output_type": "stream",
     "text": [
      "True\n",
      "False\n",
      "True\n",
      "True\n",
      "False\n"
     ]
    }
   ],
   "source": [
    "print(english('Instagram'))\n",
    "print(english('爱奇艺PPS -《欢乐颂2》电视剧热播'))\n",
    "print(english('Docs To Go™ Free Office Suite'))\n",
    "print(english('Instachat 😜'))\n",
    "print(english('Instachat 😜Instachat 😜Instachat 😜 Instachat 😜'))"
   ]
  },
  {
   "cell_type": "code",
   "execution_count": 64,
   "metadata": {},
   "outputs": [
    {
     "name": "stdout",
     "output_type": "stream",
     "text": [
      "['Photo Editor & Candy Camera & Grid & ScrapBook', 'ART_AND_DESIGN', '4.1', '159', '19M', '10,000+', 'Free', '0', 'Everyone', 'Art & Design', 'January 7, 2018', '1.0.0', '4.0.3 and up']\n",
      "\n",
      "\n",
      "['U Launcher Lite – FREE Live Cool Themes, Hide Apps', 'ART_AND_DESIGN', '4.7', '87510', '8.7M', '5,000,000+', 'Free', '0', 'Everyone', 'Art & Design', 'August 1, 2018', '1.2.4', '4.0.3 and up']\n",
      "\n",
      "\n",
      "['Sketch - Draw & Paint', 'ART_AND_DESIGN', '4.5', '215644', '25M', '50,000,000+', 'Free', '0', 'Teen', 'Art & Design', 'June 8, 2018', 'Varies with device', '4.2 and up']\n",
      "\n",
      "\n",
      "['Pixel Draw - Number Art Coloring Book', 'ART_AND_DESIGN', '4.3', '967', '2.8M', '100,000+', 'Free', '0', 'Everyone', 'Art & Design;Creativity', 'June 20, 2018', '1.1', '4.4 and up']\n",
      "\n",
      "\n",
      "['Paper flowers instructions', 'ART_AND_DESIGN', '4.4', '167', '5.6M', '50,000+', 'Free', '0', 'Everyone', 'Art & Design', 'March 26, 2017', '1.0', '2.3 and up']\n",
      "\n",
      "\n",
      "Number of rows 9614\n",
      "Number of columns 13\n"
     ]
    }
   ],
   "source": [
    "google_play = []\n",
    "\n",
    "for row in unique_clean_google_data:\n",
    "    if english(row[0]):\n",
    "        google_play.append(row)\n",
    "\n",
    "explore_data(google_play, 0, 5, True)"
   ]
  },
  {
   "cell_type": "markdown",
   "metadata": {},
   "source": [
    "# Analysis\n",
    "So far we have removed invalid entries, duplicates, and non-english apps, from our data set. Now we can begin to look through our data to perform analysis. We want to do the following:\n",
    "1. Build a minimal Android app and add it to Google Play\n",
    "2. If there is a strong response, develop a more robust version for Google Play\n",
    "3. If after six months we see that the app is profitable, we will develop a version for the Apple App Store\n",
    "\n",
    "Goal: to develop an app for both the App Store and Google play. We need to find what profiles are successful for both markets.\n",
    "We will achieve this by creating frquency tables on our cleaned data."
   ]
  },
  {
   "cell_type": "code",
   "execution_count": 65,
   "metadata": {},
   "outputs": [
    {
     "name": "stdout",
     "output_type": "stream",
     "text": [
      "['Photo Editor & Candy Camera & Grid & ScrapBook', 'ART_AND_DESIGN', '4.1', '159', '19M', '10,000+', 'Free', '0', 'Everyone', 'Art & Design', 'January 7, 2018', '1.0.0', '4.0.3 and up']\n",
      "\n",
      "\n",
      "['U Launcher Lite – FREE Live Cool Themes, Hide Apps', 'ART_AND_DESIGN', '4.7', '87510', '8.7M', '5,000,000+', 'Free', '0', 'Everyone', 'Art & Design', 'August 1, 2018', '1.2.4', '4.0.3 and up']\n",
      "\n",
      "\n",
      "['Sketch - Draw & Paint', 'ART_AND_DESIGN', '4.5', '215644', '25M', '50,000,000+', 'Free', '0', 'Teen', 'Art & Design', 'June 8, 2018', 'Varies with device', '4.2 and up']\n",
      "\n",
      "\n"
     ]
    }
   ],
   "source": [
    "explore_data(google_play, 0, 3)"
   ]
  },
  {
   "cell_type": "code",
   "execution_count": 66,
   "metadata": {},
   "outputs": [
    {
     "name": "stdout",
     "output_type": "stream",
     "text": [
      "['App', 'Category', 'Rating', 'Reviews', 'Size', 'Installs', 'Type', 'Price', 'Content Rating', 'Genres', 'Last Updated', 'Current Ver', 'Android Ver']\n",
      "\n",
      "\n",
      "['Photo Editor & Candy Camera & Grid & ScrapBook', 'ART_AND_DESIGN', '4.1', '159', '19M', '10,000+', 'Free', '0', 'Everyone', 'Art & Design', 'January 7, 2018', '1.0.0', '4.0.3 and up']\n",
      "\n",
      "\n"
     ]
    }
   ],
   "source": [
    "explore_data(google_data, 0, 2)"
   ]
  },
  {
   "cell_type": "code",
   "execution_count": 67,
   "metadata": {},
   "outputs": [
    {
     "name": "stdout",
     "output_type": "stream",
     "text": [
      "['', 'id', 'track_name', 'size_bytes', 'currency', 'price', 'rating_count_tot', 'rating_count_ver', 'user_rating', 'user_rating_ver', 'ver', 'cont_rating', 'prime_genre', 'sup_devices.num', 'ipadSc_urls.num', 'lang.num', 'vpp_lic']\n",
      "\n",
      "\n",
      "['1', '281656475', 'PAC-MAN Premium', '100788224', 'USD', '3.99', '21292', '26', '4', '4.5', '6.3.5', '4+', 'Games', '38', '5', '10', '1']\n",
      "\n",
      "\n"
     ]
    }
   ],
   "source": [
    "explore_data(apple_data, 0, 2)"
   ]
  },
  {
   "cell_type": "markdown",
   "metadata": {},
   "source": [
    "Possible columns for frequency tables: price, genre, rating, content rating, reviews/rating_count_tot"
   ]
  },
  {
   "cell_type": "markdown",
   "metadata": {},
   "source": [
    "We're going to write a function to help generate frequency tables."
   ]
  },
  {
   "cell_type": "code",
   "execution_count": 68,
   "metadata": {},
   "outputs": [
    {
     "name": "stdout",
     "output_type": "stream",
     "text": [
      "{'ART_AND_DESIGN': 60, 'AUTO_AND_VEHICLES': 84, 'BEAUTY': 53, 'BOOKS_AND_REFERENCE': 218, 'BUSINESS': 419, 'COMICS': 55, 'COMMUNICATION': 314, 'DATING': 170, 'EDUCATION': 106, 'ENTERTAINMENT': 87, 'EVENTS': 64, 'FINANCE': 345, 'FOOD_AND_DRINK': 112, 'HEALTH_AND_FITNESS': 288, 'HOUSE_AND_HOME': 73, 'LIBRARIES_AND_DEMO': 84, 'LIFESTYLE': 364, 'GAME': 944, 'FAMILY': 1858, 'MEDICAL': 395, 'SOCIAL': 239, 'SHOPPING': 201, 'PHOTOGRAPHY': 280, 'SPORTS': 325, 'TRAVEL_AND_LOCAL': 219, 'TOOLS': 828, 'PERSONALIZATION': 375, 'PRODUCTIVITY': 373, 'PARENTING': 60, 'WEATHER': 79, 'VIDEO_PLAYERS': 163, 'NEWS_AND_MAGAZINES': 250, 'MAPS_AND_NAVIGATION': 129}\n"
     ]
    }
   ],
   "source": [
    "def freq_table(dataset, index):\n",
    "    new_dict = {}\n",
    "    for row in dataset:\n",
    "        key = row[index]\n",
    "        if key in new_dict:\n",
    "            new_dict[key] += 1\n",
    "        else:\n",
    "            new_dict[key] = 1\n",
    "    return new_dict\n",
    "\n",
    "#test a frequency table\n",
    "print(freq_table(google_play, 1))"
   ]
  },
  {
   "cell_type": "markdown",
   "metadata": {},
   "source": [
    "Now we will write a new function that converts a frequency table to a nicely formatted table. The function will take a dataset and an index number as parameters. The function should transform the frequency table into a list of tuples. Once the list has been created, using the `sorted` funciton we'll sort the list into decsending order."
   ]
  },
  {
   "cell_type": "code",
   "execution_count": 69,
   "metadata": {},
   "outputs": [],
   "source": [
    "def display_table(dataset, index):\n",
    "    table = freq_table(dataset, index)\n",
    "    table_display = []\n",
    "    \n",
    "    for key in table:\n",
    "        key_value_as_tuple = (table[key], key)\n",
    "        table_display.append(key_value_as_tuple)\n",
    "        \n",
    "    table_sorted = sorted(table_display, reverse = True)\n",
    "    for row in table_sorted:\n",
    "        print(row[1], \":\", row[0])"
   ]
  },
  {
   "cell_type": "code",
   "execution_count": 70,
   "metadata": {},
   "outputs": [
    {
     "name": "stdout",
     "output_type": "stream",
     "text": [
      "Tools : 827\n",
      "Entertainment : 557\n",
      "Education : 503\n",
      "Business : 419\n",
      "Medical : 395\n",
      "Personalization : 375\n",
      "Productivity : 373\n",
      "Lifestyle : 363\n",
      "Finance : 345\n",
      "Sports : 331\n",
      "Communication : 314\n",
      "Action : 299\n",
      "Health & Fitness : 288\n",
      "Photography : 280\n",
      "News & Magazines : 250\n",
      "Social : 239\n",
      "Travel & Local : 218\n",
      "Books & Reference : 218\n",
      "Shopping : 201\n",
      "Simulation : 190\n",
      "Arcade : 184\n",
      "Dating : 170\n",
      "Casual : 165\n",
      "Video Players & Editors : 161\n",
      "Maps & Navigation : 129\n",
      "Puzzle : 119\n",
      "Food & Drink : 112\n",
      "Role Playing : 104\n",
      "Strategy : 94\n",
      "Racing : 91\n",
      "Libraries & Demo : 84\n",
      "Auto & Vehicles : 84\n",
      "Weather : 79\n",
      "House & Home : 73\n",
      "Adventure : 72\n",
      "Events : 64\n",
      "Art & Design : 56\n",
      "Comics : 54\n",
      "Beauty : 53\n",
      "Card : 47\n",
      "Parenting : 46\n",
      "Board : 42\n",
      "Casino : 39\n",
      "Educational;Education : 38\n",
      "Trivia : 37\n",
      "Educational : 37\n",
      "Education;Education : 35\n",
      "Casual;Pretend Play : 25\n",
      "Word : 23\n",
      "Music : 19\n",
      "Puzzle;Brain Games : 17\n",
      "Education;Pretend Play : 17\n",
      "Racing;Action & Adventure : 16\n",
      "Entertainment;Music & Video : 15\n",
      "Board;Brain Games : 14\n",
      "Arcade;Action & Adventure : 14\n",
      "Educational;Pretend Play : 13\n",
      "Casual;Action & Adventure : 13\n",
      "Casual;Brain Games : 12\n",
      "Action;Action & Adventure : 12\n",
      "Simulation;Action & Adventure : 7\n",
      "Parenting;Education : 7\n",
      "Entertainment;Brain Games : 7\n",
      "Parenting;Music & Video : 6\n",
      "Educational;Brain Games : 6\n",
      "Education;Creativity : 6\n",
      "Casual;Creativity : 6\n",
      "Art & Design;Creativity : 6\n",
      "Educational;Creativity : 5\n",
      "Adventure;Action & Adventure : 5\n",
      "Sports;Action & Adventure : 4\n",
      "Role Playing;Pretend Play : 4\n",
      "Role Playing;Action & Adventure : 4\n",
      "Education;Brain Games : 4\n",
      "Education;Action & Adventure : 4\n",
      "Simulation;Pretend Play : 3\n",
      "Simulation;Education : 3\n",
      "Puzzle;Action & Adventure : 3\n",
      "Music;Music & Video : 3\n",
      "Entertainment;Creativity : 3\n",
      "Entertainment;Action & Adventure : 3\n",
      "Educational;Action & Adventure : 3\n",
      "Education;Music & Video : 3\n",
      "Casual;Education : 3\n",
      "Board;Action & Adventure : 3\n",
      "Video Players & Editors;Music & Video : 2\n",
      "Strategy;Action & Adventure : 2\n",
      "Puzzle;Creativity : 2\n",
      "Entertainment;Pretend Play : 2\n",
      "Card;Action & Adventure : 2\n",
      "Books & Reference;Education : 2\n",
      "Video Players & Editors;Creativity : 1\n",
      "Trivia;Education : 1\n",
      "Travel & Local;Action & Adventure : 1\n",
      "Tools;Education : 1\n",
      "Strategy;Education : 1\n",
      "Strategy;Creativity : 1\n",
      "Role Playing;Education : 1\n",
      "Role Playing;Brain Games : 1\n",
      "Racing;Pretend Play : 1\n",
      "Puzzle;Education : 1\n",
      "Parenting;Brain Games : 1\n",
      "Music & Audio;Music & Video : 1\n",
      "Lifestyle;Pretend Play : 1\n",
      "Lifestyle;Education : 1\n",
      "Health & Fitness;Education : 1\n",
      "Health & Fitness;Action & Adventure : 1\n",
      "Entertainment;Education : 1\n",
      "Communication;Creativity : 1\n",
      "Comics;Creativity : 1\n",
      "Casual;Music & Video : 1\n",
      "Books & Reference;Creativity : 1\n",
      "Board;Pretend Play : 1\n",
      "Art & Design;Pretend Play : 1\n",
      "Art & Design;Action & Adventure : 1\n",
      "Arcade;Pretend Play : 1\n",
      "Adventure;Education : 1\n",
      "Adventure;Brain Games : 1\n"
     ]
    }
   ],
   "source": [
    "display_table(google_play, 9)"
   ]
  },
  {
   "cell_type": "code",
   "execution_count": 71,
   "metadata": {},
   "outputs": [
    {
     "name": "stdout",
     "output_type": "stream",
     "text": [
      "FAMILY : 1858\n",
      "GAME : 944\n",
      "TOOLS : 828\n",
      "BUSINESS : 419\n",
      "MEDICAL : 395\n",
      "PERSONALIZATION : 375\n",
      "PRODUCTIVITY : 373\n",
      "LIFESTYLE : 364\n",
      "FINANCE : 345\n",
      "SPORTS : 325\n",
      "COMMUNICATION : 314\n",
      "HEALTH_AND_FITNESS : 288\n",
      "PHOTOGRAPHY : 280\n",
      "NEWS_AND_MAGAZINES : 250\n",
      "SOCIAL : 239\n",
      "TRAVEL_AND_LOCAL : 219\n",
      "BOOKS_AND_REFERENCE : 218\n",
      "SHOPPING : 201\n",
      "DATING : 170\n",
      "VIDEO_PLAYERS : 163\n",
      "MAPS_AND_NAVIGATION : 129\n",
      "FOOD_AND_DRINK : 112\n",
      "EDUCATION : 106\n",
      "ENTERTAINMENT : 87\n",
      "LIBRARIES_AND_DEMO : 84\n",
      "AUTO_AND_VEHICLES : 84\n",
      "WEATHER : 79\n",
      "HOUSE_AND_HOME : 73\n",
      "EVENTS : 64\n",
      "PARENTING : 60\n",
      "ART_AND_DESIGN : 60\n",
      "COMICS : 55\n",
      "BEAUTY : 53\n"
     ]
    }
   ],
   "source": [
    "display_table(google_play, 1)"
   ]
  },
  {
   "cell_type": "code",
   "execution_count": 72,
   "metadata": {},
   "outputs": [
    {
     "name": "stdout",
     "output_type": "stream",
     "text": [
      "1,000,000+ : 1414\n",
      "100,000+ : 1106\n",
      "10,000+ : 1021\n",
      "10,000,000+ : 937\n",
      "1,000+ : 880\n",
      "100+ : 704\n",
      "5,000,000+ : 605\n",
      "500,000+ : 504\n",
      "5,000+ : 465\n",
      "50,000+ : 463\n",
      "10+ : 384\n",
      "500+ : 328\n",
      "50,000,000+ : 204\n",
      "50+ : 204\n",
      "100,000,000+ : 189\n",
      "5+ : 82\n",
      "1+ : 66\n",
      "500,000,000+ : 24\n",
      "1,000,000,000+ : 20\n",
      "0+ : 13\n",
      "0 : 1\n"
     ]
    }
   ],
   "source": [
    "display_table(google_play, 5)"
   ]
  },
  {
   "cell_type": "code",
   "execution_count": 73,
   "metadata": {},
   "outputs": [
    {
     "name": "stdout",
     "output_type": "stream",
     "text": [
      "COMMUNICATION : 6\n",
      "SOCIAL : 3\n",
      "VIDEO_PLAYERS : 2\n",
      "TRAVEL_AND_LOCAL : 2\n",
      "TOOLS : 1\n",
      "PRODUCTIVITY : 1\n",
      "PHOTOGRAPHY : 1\n",
      "NEWS_AND_MAGAZINES : 1\n",
      "GAME : 1\n",
      "FAMILY : 1\n",
      "BOOKS_AND_REFERENCE : 1\n"
     ]
    }
   ],
   "source": [
    "apps_over_billion = []\n",
    "for row in google_play:\n",
    "    installs = row[5]\n",
    "    if installs == \"1,000,000,000+\":\n",
    "        apps_over_billion.append(row)\n",
    "        \n",
    "display_table(apps_over_billion, 1)"
   ]
  },
  {
   "cell_type": "code",
   "execution_count": 74,
   "metadata": {},
   "outputs": [
    {
     "name": "stdout",
     "output_type": "stream",
     "text": [
      "['', 'id', 'track_name', 'size_bytes', 'currency', 'price', 'rating_count_tot', 'rating_count_ver', 'user_rating', 'user_rating_ver', 'ver', 'cont_rating', 'prime_genre', 'sup_devices.num', 'ipadSc_urls.num', 'lang.num', 'vpp_lic']\n"
     ]
    }
   ],
   "source": [
    "print(apple_data[0])"
   ]
  },
  {
   "cell_type": "code",
   "execution_count": 87,
   "metadata": {},
   "outputs": [
    {
     "name": "stdout",
     "output_type": "stream",
     "text": [
      "{'Games': 3862, 'Productivity': 178, 'Weather': 72, 'Shopping': 122, 'Reference': 64, 'Finance': 104, 'Music': 138, 'Utilities': 248, 'Travel': 81, 'Social Networking': 167, 'Sports': 114, 'Business': 57, 'Health & Fitness': 180, 'Entertainment': 535, 'Photo & Video': 349, 'Navigation': 46, 'Education': 453, 'Lifestyle': 144, 'Food & Drink': 63, 'News': 75, 'Book': 112, 'Medical': 23, 'Catalogs': 10}\n",
      "Games : 13691.996633868463\n",
      "Productivity : 8051.3258426966295\n",
      "Weather : 22181.027777777777\n",
      "Shopping : 18615.32786885246\n",
      "Reference : 22410.84375\n",
      "Finance : 11047.653846153846\n",
      "Music : 28842.021739130436\n",
      "Utilities : 6863.822580645161\n",
      "Travel : 14129.444444444445\n",
      "Social Networking : 45498.89820359281\n",
      "Sports : 14026.929824561403\n",
      "Business : 4788.087719298245\n",
      "Health & Fitness : 9913.172222222222\n",
      "Entertainment : 7533.678504672897\n",
      "Photo & Video : 14352.280802292264\n",
      "Navigation : 11853.95652173913\n",
      "Education : 2239.2295805739514\n",
      "Lifestyle : 6161.763888888889\n",
      "Food & Drink : 13938.619047619048\n",
      "News : 13015.066666666668\n",
      "Book : 5125.4375\n",
      "Medical : 592.7826086956521\n",
      "Catalogs : 1732.5\n"
     ]
    }
   ],
   "source": [
    "genres_ios = freq_table(apple_data[1:], -5)\n",
    "\n",
    "print(genres_ios)\n",
    "\n",
    "for genre in genres_ios:\n",
    "    total = 0\n",
    "    len_genre = 0\n",
    "    for app in apple_data[1:]:\n",
    "        genre_app = app[-5]\n",
    "        if genre_app == genre:            \n",
    "            n_ratings = float(app[6])\n",
    "            total += n_ratings\n",
    "            len_genre += 1      \n",
    "    avg_n_ratings = total / len_genre\n",
    "    print(genre, ':', avg_n_ratings)"
   ]
  },
  {
   "cell_type": "code",
   "execution_count": 91,
   "metadata": {},
   "outputs": [
    {
     "name": "stdout",
     "output_type": "stream",
     "text": [
      "ART_AND_DESIGN : 1919103.3898305085\n",
      "AUTO_AND_VEHICLES : 632501.3214285715\n",
      "BEAUTY : 513151.88679245283\n",
      "BOOKS_AND_REFERENCE : 7641777.871559633\n",
      "BUSINESS : 1663758.627684964\n",
      "COMICS : 817657.2727272727\n",
      "COMMUNICATION : 35153714.17515924\n",
      "DATING : 828971.2176470588\n",
      "EDUCATION : 1782566.0377358492\n",
      "ENTERTAINMENT : 11375402.298850575\n",
      "EVENTS : 249580.640625\n",
      "FINANCE : 1319851.4028985507\n",
      "FOOD_AND_DRINK : 1891060.2767857143\n",
      "HEALTH_AND_FITNESS : 3972300.388888889\n",
      "HOUSE_AND_HOME : 1331540.5616438356\n",
      "LIBRARIES_AND_DEMO : 630903.6904761905\n",
      "LIFESTYLE : 1369954.7774725275\n",
      "GAME : 14256217.600635594\n",
      "FAMILY : 3345018.516684607\n",
      "MEDICAL : 96944.49873417722\n",
      "SOCIAL : 22961790.384937238\n",
      "SHOPPING : 6966908.880597015\n",
      "PHOTOGRAPHY : 16636241.267857144\n",
      "SPORTS : 3373767.6861538463\n",
      "TRAVEL_AND_LOCAL : 13218662.767123288\n",
      "TOOLS : 9785955.211352658\n",
      "PERSONALIZATION : 4086652.4853333333\n",
      "PRODUCTIVITY : 15530942.008042896\n",
      "PARENTING : 525351.8333333334\n",
      "WEATHER : 4570892.658227848\n",
      "VIDEO_PLAYERS : 24121489.079754602\n",
      "NEWS_AND_MAGAZINES : 9472807.04\n",
      "MAPS_AND_NAVIGATION : 3900634.7286821706\n"
     ]
    }
   ],
   "source": [
    "category_table = freq_table(google_play[1:], 1)\n",
    "\n",
    "for category in category_table:\n",
    "    total = 0\n",
    "    len_category = 0\n",
    "    for row in google_play[1:]:\n",
    "        app_category = row[1]\n",
    "        if category == app_category:\n",
    "            n_installs = row[5]\n",
    "            n_installs = n_installs.replace(\"+\", \"\")\n",
    "            n_installs = n_installs.replace(\",\",\"\")\n",
    "            total += float(n_installs)\n",
    "            len_category += 1\n",
    "    avg_installs = total/len_category\n",
    "    print(category, \":\", avg_installs)"
   ]
  },
  {
   "cell_type": "code",
   "execution_count": null,
   "metadata": {},
   "outputs": [],
   "source": []
  }
 ],
 "metadata": {
  "kernelspec": {
   "display_name": "Python 3",
   "language": "python",
   "name": "python3"
  },
  "language_info": {
   "codemirror_mode": {
    "name": "ipython",
    "version": 3
   },
   "file_extension": ".py",
   "mimetype": "text/x-python",
   "name": "python",
   "nbconvert_exporter": "python",
   "pygments_lexer": "ipython3",
   "version": "3.7.6"
  }
 },
 "nbformat": 4,
 "nbformat_minor": 4
}
